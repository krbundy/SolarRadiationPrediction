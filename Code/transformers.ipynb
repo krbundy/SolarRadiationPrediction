{
 "metadata": {
  "language_info": {
   "codemirror_mode": {
    "name": "ipython",
    "version": 3
   },
   "file_extension": ".py",
   "mimetype": "text/x-python",
   "name": "python",
   "nbconvert_exporter": "python",
   "pygments_lexer": "ipython3",
   "version": "3.7.4-final"
  },
  "orig_nbformat": 2,
  "kernelspec": {
   "name": "Python 3.7.4 64-bit ('kenne': virtualenv)",
   "display_name": "Python 3.7.4 64-bit ('kenne': virtualenv)",
   "metadata": {
    "interpreter": {
     "hash": "d04397cfd2a9c67c1491d9db52d41c27d05b26c07141c388811962b2690ba037"
    }
   }
  }
 },
 "nbformat": 4,
 "nbformat_minor": 2,
 "cells": [
  {
   "cell_type": "code",
   "execution_count": 2,
   "metadata": {},
   "outputs": [],
   "source": [
    "import numpy as np\n",
    "import pandas as pd\n",
    "import tensorflow as tf\n",
    "import tensorflow.keras as keras\n",
    "import plotly.express as px"
   ]
  },
  {
   "cell_type": "code",
   "execution_count": 1,
   "metadata": {},
   "outputs": [
    {
     "output_type": "stream",
     "name": "stderr",
     "text": [
      "Failed to query for notebook name, you can set it manually with the WANDB_NOTEBOOK_NAME environment variable\n",
      "wandb: Currently logged in as: krbundy (use `wandb login --relogin` to force relogin)\n",
      "wandb: wandb version 0.10.5 is available!  To upgrade, please run:\n",
      "wandb:  $ pip install wandb --upgrade\n"
     ]
    },
    {
     "output_type": "display_data",
     "data": {
      "text/plain": "<IPython.core.display.HTML object>",
      "text/html": "\n                Tracking run with wandb version 0.10.4<br/>\n                Syncing run <strong style=\"color:#cdcd00\">floral-dawn-1</strong> to <a href=\"https://wandb.ai\" target=\"_blank\">Weights & Biases</a> <a href=\"https://docs.wandb.com/integrations/jupyter.html\" target=\"_blank\">(Documentation)</a>.<br/>\n                Project page: <a href=\"https://wandb.ai/krbundy/SolarRadiationPrediction-Code\" target=\"_blank\">https://wandb.ai/krbundy/SolarRadiationPrediction-Code</a><br/>\n                Run page: <a href=\"https://wandb.ai/krbundy/SolarRadiationPrediction-Code/runs/2dymp9pn\" target=\"_blank\">https://wandb.ai/krbundy/SolarRadiationPrediction-Code/runs/2dymp9pn</a><br/>\n                Run data is saved locally in <code>wandb\\run-20201009_203601-2dymp9pn</code><br/><br/>\n            "
     },
     "metadata": {}
    },
    {
     "output_type": "execute_result",
     "data": {
      "text/html": "<h1>Run(2dymp9pn)</h1><p></p><iframe src=\"https://wandb.ai/krbundy/SolarRadiationPrediction-Code/runs/2dymp9pn\" style=\"border:none;width:100%;height:400px\"></iframe>",
      "text/plain": [
       "<wandb.sdk.wandb_run.Run at 0x293c9b6a348>"
      ]
     },
     "metadata": {},
     "execution_count": 1
    }
   ],
   "source": [
    "import wandb\n",
    "from wandb.keras import WandbCallback\n",
    "wandb.init()"
   ]
  },
  {
   "cell_type": "code",
   "execution_count": null,
   "metadata": {},
   "outputs": [],
   "source": []
  }
 ]
}